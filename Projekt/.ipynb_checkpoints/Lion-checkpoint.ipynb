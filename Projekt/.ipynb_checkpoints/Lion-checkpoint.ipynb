{
 "cells": [
  {
   "cell_type": "code",
   "execution_count": 1,
   "metadata": {},
   "outputs": [
    {
     "data": {
      "text/plain": [
       "6.022140857e+23"
      ]
     },
     "execution_count": 1,
     "metadata": {},
     "output_type": "execute_result"
    }
   ],
   "source": [
    "import numpy as np\n",
    "import matplotlib.pyplot as plt\n",
    "import pandas as pd\n",
    "from matplotlib import rc\n",
    "from scipy.integrate import trapz\n",
    "%matplotlib inline\n",
    "from astropy import units\n",
    "from astropy import constants\n",
    "constants.N_A.si.value"
   ]
  },
  {
   "cell_type": "code",
   "execution_count": 2,
   "metadata": {
    "collapsed": true
   },
   "outputs": [],
   "source": [
    "rc('font', family='Comic Sans MS')"
   ]
  },
  {
   "cell_type": "code",
   "execution_count": 3,
   "metadata": {},
   "outputs": [
    {
     "name": "stderr",
     "output_type": "stream",
     "text": [
      "C:\\ProgramData\\Anaconda3\\lib\\site-packages\\ipykernel_launcher.py:1: ParserWarning: Falling back to the 'python' engine because the 'c' engine does not support regex separators (separators > 1 char and different from '\\s+' are interpreted as regex); you can avoid this warning by specifying engine='python'.\n",
      "  \"\"\"Entry point for launching an IPython kernel.\n",
      "C:\\ProgramData\\Anaconda3\\lib\\site-packages\\pandas\\io\\parsers.py:2138: FutureWarning: split() requires a non-empty pattern match.\n",
      "  yield pat.split(line.strip())\n",
      "C:\\ProgramData\\Anaconda3\\lib\\site-packages\\pandas\\io\\parsers.py:2140: FutureWarning: split() requires a non-empty pattern match.\n",
      "  yield pat.split(line.strip())\n"
     ]
    },
    {
     "data": {
      "text/html": [
       "<div>\n",
       "<style>\n",
       "    .dataframe thead tr:only-child th {\n",
       "        text-align: right;\n",
       "    }\n",
       "\n",
       "    .dataframe thead th {\n",
       "        text-align: left;\n",
       "    }\n",
       "\n",
       "    .dataframe tbody tr th {\n",
       "        vertical-align: top;\n",
       "    }\n",
       "</style>\n",
       "<table border=\"1\" class=\"dataframe\">\n",
       "  <thead>\n",
       "    <tr style=\"text-align: right;\">\n",
       "      <th></th>\n",
       "      <th>t[s]</th>\n",
       "      <th>U[V]</th>\n",
       "    </tr>\n",
       "  </thead>\n",
       "  <tbody>\n",
       "    <tr>\n",
       "      <th>0</th>\n",
       "      <td>0.1872</td>\n",
       "      <td>4.0629</td>\n",
       "    </tr>\n",
       "    <tr>\n",
       "      <th>1</th>\n",
       "      <td>1.0139</td>\n",
       "      <td>4.0576</td>\n",
       "    </tr>\n",
       "    <tr>\n",
       "      <th>2</th>\n",
       "      <td>1.8875</td>\n",
       "      <td>4.0524</td>\n",
       "    </tr>\n",
       "    <tr>\n",
       "      <th>3</th>\n",
       "      <td>2.8077</td>\n",
       "      <td>4.0471</td>\n",
       "    </tr>\n",
       "    <tr>\n",
       "      <th>4</th>\n",
       "      <td>3.8219</td>\n",
       "      <td>4.0418</td>\n",
       "    </tr>\n",
       "    <tr>\n",
       "      <th>5</th>\n",
       "      <td>4.8672</td>\n",
       "      <td>4.0366</td>\n",
       "    </tr>\n",
       "    <tr>\n",
       "      <th>6</th>\n",
       "      <td>5.9589</td>\n",
       "      <td>4.0313</td>\n",
       "    </tr>\n",
       "    <tr>\n",
       "      <th>7</th>\n",
       "      <td>7.0353</td>\n",
       "      <td>4.0261</td>\n",
       "    </tr>\n",
       "    <tr>\n",
       "      <th>8</th>\n",
       "      <td>8.1272</td>\n",
       "      <td>4.0208</td>\n",
       "    </tr>\n",
       "    <tr>\n",
       "      <th>9</th>\n",
       "      <td>9.2660</td>\n",
       "      <td>4.0156</td>\n",
       "    </tr>\n",
       "    <tr>\n",
       "      <th>10</th>\n",
       "      <td>10.4672</td>\n",
       "      <td>4.0103</td>\n",
       "    </tr>\n",
       "    <tr>\n",
       "      <th>11</th>\n",
       "      <td>11.6841</td>\n",
       "      <td>4.0051</td>\n",
       "    </tr>\n",
       "    <tr>\n",
       "      <th>12</th>\n",
       "      <td>12.9162</td>\n",
       "      <td>3.9998</td>\n",
       "    </tr>\n",
       "    <tr>\n",
       "      <th>13</th>\n",
       "      <td>14.1799</td>\n",
       "      <td>3.9946</td>\n",
       "    </tr>\n",
       "    <tr>\n",
       "      <th>14</th>\n",
       "      <td>15.4277</td>\n",
       "      <td>3.9893</td>\n",
       "    </tr>\n",
       "    <tr>\n",
       "      <th>15</th>\n",
       "      <td>16.7071</td>\n",
       "      <td>3.9841</td>\n",
       "    </tr>\n",
       "    <tr>\n",
       "      <th>16</th>\n",
       "      <td>18.0796</td>\n",
       "      <td>3.9788</td>\n",
       "    </tr>\n",
       "    <tr>\n",
       "      <th>17</th>\n",
       "      <td>19.4837</td>\n",
       "      <td>3.9736</td>\n",
       "    </tr>\n",
       "    <tr>\n",
       "      <th>18</th>\n",
       "      <td>20.8096</td>\n",
       "      <td>3.9683</td>\n",
       "    </tr>\n",
       "    <tr>\n",
       "      <th>19</th>\n",
       "      <td>22.2603</td>\n",
       "      <td>3.9631</td>\n",
       "    </tr>\n",
       "    <tr>\n",
       "      <th>20</th>\n",
       "      <td>23.6487</td>\n",
       "      <td>3.9578</td>\n",
       "    </tr>\n",
       "    <tr>\n",
       "      <th>21</th>\n",
       "      <td>25.2554</td>\n",
       "      <td>3.9526</td>\n",
       "    </tr>\n",
       "    <tr>\n",
       "      <th>22</th>\n",
       "      <td>26.7531</td>\n",
       "      <td>3.9470</td>\n",
       "    </tr>\n",
       "    <tr>\n",
       "      <th>23</th>\n",
       "      <td>28.3597</td>\n",
       "      <td>3.9414</td>\n",
       "    </tr>\n",
       "    <tr>\n",
       "      <th>24</th>\n",
       "      <td>29.9821</td>\n",
       "      <td>3.9362</td>\n",
       "    </tr>\n",
       "    <tr>\n",
       "      <th>25</th>\n",
       "      <td>31.6044</td>\n",
       "      <td>3.9309</td>\n",
       "    </tr>\n",
       "    <tr>\n",
       "      <th>26</th>\n",
       "      <td>33.1800</td>\n",
       "      <td>3.9257</td>\n",
       "    </tr>\n",
       "    <tr>\n",
       "      <th>27</th>\n",
       "      <td>34.7087</td>\n",
       "      <td>3.9204</td>\n",
       "    </tr>\n",
       "    <tr>\n",
       "      <th>28</th>\n",
       "      <td>36.4246</td>\n",
       "      <td>3.9152</td>\n",
       "    </tr>\n",
       "    <tr>\n",
       "      <th>29</th>\n",
       "      <td>38.0625</td>\n",
       "      <td>3.9099</td>\n",
       "    </tr>\n",
       "    <tr>\n",
       "      <th>...</th>\n",
       "      <td>...</td>\n",
       "      <td>...</td>\n",
       "    </tr>\n",
       "    <tr>\n",
       "      <th>1377</th>\n",
       "      <td>25725.8901</td>\n",
       "      <td>3.0817</td>\n",
       "    </tr>\n",
       "    <tr>\n",
       "      <th>1378</th>\n",
       "      <td>25745.9041</td>\n",
       "      <td>3.0795</td>\n",
       "    </tr>\n",
       "    <tr>\n",
       "      <th>1379</th>\n",
       "      <td>25765.9183</td>\n",
       "      <td>3.0771</td>\n",
       "    </tr>\n",
       "    <tr>\n",
       "      <th>1380</th>\n",
       "      <td>25785.9323</td>\n",
       "      <td>3.0749</td>\n",
       "    </tr>\n",
       "    <tr>\n",
       "      <th>1381</th>\n",
       "      <td>25805.9464</td>\n",
       "      <td>3.0724</td>\n",
       "    </tr>\n",
       "    <tr>\n",
       "      <th>1382</th>\n",
       "      <td>25825.9605</td>\n",
       "      <td>3.0703</td>\n",
       "    </tr>\n",
       "    <tr>\n",
       "      <th>1383</th>\n",
       "      <td>25845.9745</td>\n",
       "      <td>3.0681</td>\n",
       "    </tr>\n",
       "    <tr>\n",
       "      <th>1384</th>\n",
       "      <td>25865.9887</td>\n",
       "      <td>3.0653</td>\n",
       "    </tr>\n",
       "    <tr>\n",
       "      <th>1385</th>\n",
       "      <td>25886.0029</td>\n",
       "      <td>3.0629</td>\n",
       "    </tr>\n",
       "    <tr>\n",
       "      <th>1386</th>\n",
       "      <td>25906.0180</td>\n",
       "      <td>3.0604</td>\n",
       "    </tr>\n",
       "    <tr>\n",
       "      <th>1387</th>\n",
       "      <td>25926.0319</td>\n",
       "      <td>3.0576</td>\n",
       "    </tr>\n",
       "    <tr>\n",
       "      <th>1388</th>\n",
       "      <td>25946.0460</td>\n",
       "      <td>3.0551</td>\n",
       "    </tr>\n",
       "    <tr>\n",
       "      <th>1389</th>\n",
       "      <td>25966.0601</td>\n",
       "      <td>3.0523</td>\n",
       "    </tr>\n",
       "    <tr>\n",
       "      <th>1390</th>\n",
       "      <td>25986.0743</td>\n",
       "      <td>3.0499</td>\n",
       "    </tr>\n",
       "    <tr>\n",
       "      <th>1391</th>\n",
       "      <td>26006.0884</td>\n",
       "      <td>3.0471</td>\n",
       "    </tr>\n",
       "    <tr>\n",
       "      <th>1392</th>\n",
       "      <td>26026.1024</td>\n",
       "      <td>3.0437</td>\n",
       "    </tr>\n",
       "    <tr>\n",
       "      <th>1393</th>\n",
       "      <td>26046.1167</td>\n",
       "      <td>3.0409</td>\n",
       "    </tr>\n",
       "    <tr>\n",
       "      <th>1394</th>\n",
       "      <td>26066.1305</td>\n",
       "      <td>3.0384</td>\n",
       "    </tr>\n",
       "    <tr>\n",
       "      <th>1395</th>\n",
       "      <td>26086.1447</td>\n",
       "      <td>3.0350</td>\n",
       "    </tr>\n",
       "    <tr>\n",
       "      <th>1396</th>\n",
       "      <td>26106.1587</td>\n",
       "      <td>3.0326</td>\n",
       "    </tr>\n",
       "    <tr>\n",
       "      <th>1397</th>\n",
       "      <td>26126.1728</td>\n",
       "      <td>3.0292</td>\n",
       "    </tr>\n",
       "    <tr>\n",
       "      <th>1398</th>\n",
       "      <td>26146.1870</td>\n",
       "      <td>3.0261</td>\n",
       "    </tr>\n",
       "    <tr>\n",
       "      <th>1399</th>\n",
       "      <td>26166.2011</td>\n",
       "      <td>3.0227</td>\n",
       "    </tr>\n",
       "    <tr>\n",
       "      <th>1400</th>\n",
       "      <td>26186.2153</td>\n",
       "      <td>3.0196</td>\n",
       "    </tr>\n",
       "    <tr>\n",
       "      <th>1401</th>\n",
       "      <td>26206.2293</td>\n",
       "      <td>3.0165</td>\n",
       "    </tr>\n",
       "    <tr>\n",
       "      <th>1402</th>\n",
       "      <td>26226.2433</td>\n",
       "      <td>3.0131</td>\n",
       "    </tr>\n",
       "    <tr>\n",
       "      <th>1403</th>\n",
       "      <td>26246.2574</td>\n",
       "      <td>3.0094</td>\n",
       "    </tr>\n",
       "    <tr>\n",
       "      <th>1404</th>\n",
       "      <td>26266.2716</td>\n",
       "      <td>3.0060</td>\n",
       "    </tr>\n",
       "    <tr>\n",
       "      <th>1405</th>\n",
       "      <td>26286.2857</td>\n",
       "      <td>3.0029</td>\n",
       "    </tr>\n",
       "    <tr>\n",
       "      <th>1406</th>\n",
       "      <td>26299.6076</td>\n",
       "      <td>2.9998</td>\n",
       "    </tr>\n",
       "  </tbody>\n",
       "</table>\n",
       "<p>1407 rows × 2 columns</p>\n",
       "</div>"
      ],
      "text/plain": [
       "            t[s]    U[V]\n",
       "0         0.1872  4.0629\n",
       "1         1.0139  4.0576\n",
       "2         1.8875  4.0524\n",
       "3         2.8077  4.0471\n",
       "4         3.8219  4.0418\n",
       "5         4.8672  4.0366\n",
       "6         5.9589  4.0313\n",
       "7         7.0353  4.0261\n",
       "8         8.1272  4.0208\n",
       "9         9.2660  4.0156\n",
       "10       10.4672  4.0103\n",
       "11       11.6841  4.0051\n",
       "12       12.9162  3.9998\n",
       "13       14.1799  3.9946\n",
       "14       15.4277  3.9893\n",
       "15       16.7071  3.9841\n",
       "16       18.0796  3.9788\n",
       "17       19.4837  3.9736\n",
       "18       20.8096  3.9683\n",
       "19       22.2603  3.9631\n",
       "20       23.6487  3.9578\n",
       "21       25.2554  3.9526\n",
       "22       26.7531  3.9470\n",
       "23       28.3597  3.9414\n",
       "24       29.9821  3.9362\n",
       "25       31.6044  3.9309\n",
       "26       33.1800  3.9257\n",
       "27       34.7087  3.9204\n",
       "28       36.4246  3.9152\n",
       "29       38.0625  3.9099\n",
       "...          ...     ...\n",
       "1377  25725.8901  3.0817\n",
       "1378  25745.9041  3.0795\n",
       "1379  25765.9183  3.0771\n",
       "1380  25785.9323  3.0749\n",
       "1381  25805.9464  3.0724\n",
       "1382  25825.9605  3.0703\n",
       "1383  25845.9745  3.0681\n",
       "1384  25865.9887  3.0653\n",
       "1385  25886.0029  3.0629\n",
       "1386  25906.0180  3.0604\n",
       "1387  25926.0319  3.0576\n",
       "1388  25946.0460  3.0551\n",
       "1389  25966.0601  3.0523\n",
       "1390  25986.0743  3.0499\n",
       "1391  26006.0884  3.0471\n",
       "1392  26026.1024  3.0437\n",
       "1393  26046.1167  3.0409\n",
       "1394  26066.1305  3.0384\n",
       "1395  26086.1447  3.0350\n",
       "1396  26106.1587  3.0326\n",
       "1397  26126.1728  3.0292\n",
       "1398  26146.1870  3.0261\n",
       "1399  26166.2011  3.0227\n",
       "1400  26186.2153  3.0196\n",
       "1401  26206.2293  3.0165\n",
       "1402  26226.2433  3.0131\n",
       "1403  26246.2574  3.0094\n",
       "1404  26266.2716  3.0060\n",
       "1405  26286.2857  3.0029\n",
       "1406  26299.6076  2.9998\n",
       "\n",
       "[1407 rows x 2 columns]"
      ]
     },
     "execution_count": 3,
     "metadata": {},
     "output_type": "execute_result"
    }
   ],
   "source": [
    "dane = pd.read_csv('bateria_1.txt', sep=r\"\\s*\", skiprows=1, header=None, encoding='ANSI',decimal=',')\n",
    "dane.columns = ['t[s]','U[V]']\n",
    "dane"
   ]
  },
  {
   "cell_type": "code",
   "execution_count": 4,
   "metadata": {
    "collapsed": true
   },
   "outputs": [],
   "source": [
    "I = 59.8e-6 # w A\n",
    "m = 3.531e-6 # w kgramach\n",
    "pojemnosc = I*dane['t[s]']/m/3600"
   ]
  },
  {
   "cell_type": "code",
   "execution_count": 62,
   "metadata": {},
   "outputs": [
    {
     "data": {
      "text/plain": [
       "(0, 2)"
      ]
     },
     "execution_count": 62,
     "metadata": {},
     "output_type": "execute_result"
    },
    {
     "data": {
      "image/png": "[encoded data removed]",
      "text/plain": [
       "<matplotlib.figure.Figure at 0x263e6db6e48>"
      ]
     },
     "metadata": {},
     "output_type": "display_data"
    }
   ],
   "source": [
    "plt.plot(pojemnosc,dane['U[V]'],'.')\n",
    "plt.grid()\n",
    "plt.xlabel(r'Pojemność grawimetryczna[$\\frac{mAh}{g}$]')\n",
    "plt.ylabel('U[V]')\n",
    "plt.title(r'Krzywa rozładowania dla $LiFePO_4$')\n",
    "plt.xlim(0,2)\n",
    "# plt.savefig('Krzywa_rozladowania.png',dpi=400)"
   ]
  },
  {
   "cell_type": "code",
   "execution_count": 10,
   "metadata": {},
   "outputs": [
    {
     "name": "stdout",
     "output_type": "stream",
     "text": [
      "Pojemność:\n",
      "-doświadczalna = 0.12372294081626228\n",
      "-teoretyczna   = 0.16989224999749714\n"
     ]
    },
    {
     "data": {
      "text/plain": [
       "0.72824358273014211"
      ]
     },
     "execution_count": 10,
     "metadata": {},
     "output_type": "execute_result"
    }
   ],
   "source": [
    "#Pojemność grawimetryczna\n",
    "pojemnosc_doswiadczalna = np.max(pojemnosc)*1e-3\n",
    "e = constants.e.value\n",
    "N_A = constants.N_A.value\n",
    "M_Li = 6.941 \n",
    "M_Fe = 55.845\n",
    "M_O = 15.999\n",
    "M_P = 30.973762\n",
    "M = M_Li + M_Fe + M_P + 4*M_O\n",
    "Q = N_A*e/M\n",
    "pojemnosc_teoretyczna = Q/3600\n",
    "print('Pojemność:')\n",
    "print(f'-doświadczalna = {pojemnosc_doswiadczalna}')\n",
    "print(f'-teoretyczna   = {pojemnosc_teoretyczna}')\n",
    "pojemnosc_doswiadczalna/pojemnosc_teoretyczna"
   ]
  },
  {
   "cell_type": "code",
   "execution_count": 66,
   "metadata": {},
   "outputs": [
    {
     "name": "stderr",
     "output_type": "stream",
     "text": [
      "C:\\ProgramData\\Anaconda3\\lib\\site-packages\\numpy\\lib\\function_base.py:1772: RuntimeWarning: divide by zero encountered in true_divide\n",
      "  a = -(dx2)/(dx1 * (dx1 + dx2))\n",
      "C:\\ProgramData\\Anaconda3\\lib\\site-packages\\numpy\\lib\\function_base.py:1772: RuntimeWarning: invalid value encountered in true_divide\n",
      "  a = -(dx2)/(dx1 * (dx1 + dx2))\n",
      "C:\\ProgramData\\Anaconda3\\lib\\site-packages\\numpy\\lib\\function_base.py:1773: RuntimeWarning: divide by zero encountered in true_divide\n",
      "  b = (dx2 - dx1) / (dx1 * dx2)\n",
      "C:\\ProgramData\\Anaconda3\\lib\\site-packages\\numpy\\lib\\function_base.py:1773: RuntimeWarning: invalid value encountered in true_divide\n",
      "  b = (dx2 - dx1) / (dx1 * dx2)\n",
      "C:\\ProgramData\\Anaconda3\\lib\\site-packages\\numpy\\lib\\function_base.py:1774: RuntimeWarning: divide by zero encountered in true_divide\n",
      "  c = dx1 / (dx2 * (dx1 + dx2))\n",
      "C:\\ProgramData\\Anaconda3\\lib\\site-packages\\numpy\\lib\\function_base.py:1774: RuntimeWarning: invalid value encountered in true_divide\n",
      "  c = dx1 / (dx2 * (dx1 + dx2))\n",
      "C:\\ProgramData\\Anaconda3\\lib\\site-packages\\numpy\\lib\\function_base.py:1780: RuntimeWarning: invalid value encountered in add\n",
      "  out[slice1] = a * f[slice2] + b * f[slice3] + c * f[slice4]\n"
     ]
    },
    {
     "data": {
      "image/png": "[encoded data removed]",
      "text/plain": [
       "<matplotlib.figure.Figure at 0x263e8635198>"
      ]
     },
     "metadata": {},
     "output_type": "display_data"
    },
    {
     "data": {
      "image/png": "[encoded data removed]",
      "text/plain": [
       "<matplotlib.figure.Figure at 0x263e8676e48>"
      ]
     },
     "metadata": {},
     "output_type": "display_data"
    }
   ],
   "source": [
    "plt.plot(dane['U[V]'],np.gradient(pojemnosc,dane['U[V]']))\n",
    "np.unique(dane['U[V]']).shape\n",
    "dane['U[V]'].shape\n",
    "plt.title('Zróżniczkowana pojemność grawimetryczna')\n",
    "plt.xlabel('U[V]')\n",
    "plt.ylabel(r'Zróżniczkowana pojemność grawimetryczna$\\frac{mAh}{gV}$')\n",
    "plt.grid()\n",
    "plt.savefig('rozniczka.png')\n",
    "plt.show()"
   ]
  },
  {
   "cell_type": "code",
   "execution_count": 44,
   "metadata": {},
   "outputs": [
    {
     "data": {
      "image/png": "[encoded data removed]",
      "text/plain": [
       "<matplotlib.figure.Figure at 0x263e8179c18>"
      ]
     },
     "metadata": {},
     "output_type": "display_data"
    },
    {
     "name": "stderr",
     "output_type": "stream",
     "text": [
      "C:\\ProgramData\\Anaconda3\\lib\\site-packages\\ipykernel_launcher.py:13: RankWarning: Polyfit may be poorly conditioned\n",
      "  del sys.path[0]\n"
     ]
    },
    {
     "data": {
      "image/png": "[encoded data removed]",
      "text/plain": [
       "<matplotlib.figure.Figure at 0x263e7aa7438>"
      ]
     },
     "metadata": {},
     "output_type": "display_data"
    },
    {
     "name": "stdout",
     "output_type": "stream",
     "text": [
      "[  2.13674736e+04  -5.50773913e+05   5.68072537e+06  -2.73023960e+07\n",
      "   3.44770017e+07   2.33053303e+08  -8.69854063e+08  -1.22908088e+09\n",
      "   1.45249721e+10  -3.90665679e+10   4.83003275e+10  -2.37883238e+10]\n",
      "[  2.13674736e+04  -5.50773913e+05   5.68072537e+06  -2.73023960e+07\n",
      "   3.44770017e+07   2.33053303e+08  -8.69854063e+08  -1.22908088e+09\n",
      "   1.45249721e+10  -3.90665679e+10   4.83003275e+10]\n"
     ]
    },
    {
     "data": {
      "text/plain": [
       "[<matplotlib.lines.Line2D at 0x263e90866a0>]"
      ]
     },
     "execution_count": 44,
     "metadata": {},
     "output_type": "execute_result"
    },
    {
     "data": {
      "image/png": "[encoded data removed]",
      "text/plain": [
       "<matplotlib.figure.Figure at 0x263e8225fd0>"
      ]
     },
     "metadata": {},
     "output_type": "display_data"
    }
   ],
   "source": [
    "i = 11\n",
    "proba = np.polyfit(pojemnosc,dane['U[V]'],i)\n",
    "plt.plot(pojemnosc,dane['U[V]'],label='dane')\n",
    "plt.plot(pojemnosc,np.polyval(proba,pojemnosc),label='wielomian')\n",
    "plt.title(f'Wielomian {i} stopnia')\n",
    "plt.grid()\n",
    "plt.xlabel(r'Pojemność grawimetryczna[$\\frac{mAh}{g}$]')\n",
    "plt.ylabel('U[V]')\n",
    "plt.legend()\n",
    "# plt.savefig(f'Wielominy {i}.png')\n",
    "plt.show()\n",
    "plt.plot(dane['U[V]'],pojemnosc,label='dane')\n",
    "wielomian = np.polyfit(dane['U[V]'],pojemnosc,i)\n",
    "plt.plot(dane['U[V]'],np.polyval(wielomian,dane['U[V]']))\n",
    "plt.show()\n",
    "wielomian = np.delete(wielomian,-1)\n",
    "plt.plot(dane['U[V]'],np.polyval(wielomian,dane['U[V]']))"
   ]
  }
 ],
 "metadata": {
  "kernelspec": {
   "display_name": "Python 3",
   "language": "python",
   "name": "python3"
  },
  "language_info": {
   "codemirror_mode": {
    "name": "ipython",
    "version": 3
   },
   "file_extension": ".py",
   "mimetype": "text/x-python",
   "name": "python",
   "nbconvert_exporter": "python",
   "pygments_lexer": "ipython3",
   "version": "3.6.3"
  }
 },
 "nbformat": 4,
 "nbformat_minor": 2
}
